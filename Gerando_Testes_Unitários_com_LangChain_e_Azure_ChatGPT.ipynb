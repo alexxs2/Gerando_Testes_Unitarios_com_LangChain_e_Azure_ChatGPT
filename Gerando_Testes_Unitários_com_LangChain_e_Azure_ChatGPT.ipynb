{
  "nbformat": 4,
  "nbformat_minor": 0,
  "metadata": {
    "colab": {
      "provenance": []
    },
    "kernelspec": {
      "name": "python3",
      "display_name": "Python 3"
    },
    "language_info": {
      "name": "python"
    }
  },
  "cells": [
    {
      "cell_type": "code",
      "source": [
        "!pip install -U pip\n",
        "!pip install langchain langchain-openai openai tiktoken langchain_experimental\n",
        "!pip install transformers torch accelerate"
      ],
      "metadata": {
        "id": "gf7bPBf_SfMy"
      },
      "execution_count": null,
      "outputs": []
    },
    {
      "cell_type": "code",
      "source": [
        "from langchain.agents import initialize_agent, AgentType\n",
        "from langchain_experimental.tools.python.tool import PythonREPLTool\n",
        "from langchain.llms import OpenAI\n",
        "from getpass import getpass\n",
        "import os"
      ],
      "metadata": {
        "id": "_-yNrJ6vSdYl"
      },
      "execution_count": null,
      "outputs": []
    },
    {
      "cell_type": "code",
      "execution_count": null,
      "metadata": {
        "id": "Q1Etbv4lSbUk"
      },
      "outputs": [],
      "source": [
        "os.environ[\"OPENAI_API_KEY\"] = getpass(\"\")"
      ]
    },
    {
      "cell_type": "code",
      "source": [
        "llm = OpenAI(temperature=0)\n",
        "\n",
        "python_tool = PythonREPLTool()\n",
        "tools = [python_tool]\n",
        "\n",
        "agent = initialize_agent(\n",
        "    tools,\n",
        "    llm,\n",
        "    agent=AgentType.ZERO_SHOT_REACT_DESCRIPTION,\n",
        "    verbose=True\n",
        ")\n",
        "\n",
        "prompt = \"\"\"\n",
        "Crie uma função chamada is_prime(n) que retorne True para números primos e False caso contrário.\n",
        "Depois, execute estes testes usando assert:\n",
        "- assert is_prime(2) is True\n",
        "- assert is_prime(3) is True\n",
        "- assert is_prime(4) is False\n",
        "- assert is_prime(97) is True\n",
        "Imprima \"TESTS PASSED\" ao final caso todos os asserts passem.\n",
        "\"\"\""
      ],
      "metadata": {
        "id": "utTkDOSvToAy"
      },
      "execution_count": null,
      "outputs": []
    },
    {
      "cell_type": "code",
      "source": [
        "result = agent.run(prompt)\n",
        "print(\"Agent output:\\n\", result)"
      ],
      "metadata": {
        "id": "MVrVFUs_TrzY"
      },
      "execution_count": null,
      "outputs": []
    }
  ]
}